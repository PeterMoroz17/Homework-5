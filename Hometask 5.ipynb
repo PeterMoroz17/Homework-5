{
 "cells": [
  {
   "cell_type": "code",
   "execution_count": 1,
   "id": "24025c1e",
   "metadata": {},
   "outputs": [],
   "source": [
    "import json\n",
    "import requests\n",
    "import regex as re\n",
    "import sqlite3"
   ]
  },
  {
   "cell_type": "code",
   "execution_count": 2,
   "id": "196413c9",
   "metadata": {},
   "outputs": [],
   "source": [
    "# Отримаємо відповідь\n",
    "responce = requests.get('https://www.lejobadequat.com/emplois')"
   ]
  },
  {
   "cell_type": "code",
   "execution_count": 3,
   "id": "0797ce7a",
   "metadata": {},
   "outputs": [
    {
     "name": "stdout",
     "output_type": "stream",
     "text": [
      "Consulter l'offre d'emploi Assembleur / monteur  H/F\n",
      "https://www.lejobadequat.com/emplois/247084-assembleur-monteur-h-f-fr\n",
      "\n",
      "Consulter l'offre d'emploi Maçon finisseur  H/F\n",
      "https://www.lejobadequat.com/emplois/247083-macon-finisseur-h-f-fr\n",
      "\n",
      "Consulter l'offre d'emploi Chargé d\n",
      "https://www.lejobadequat.com/emplois/247082-charge-daffaires-commercial-f-h-fr\n",
      "\n",
      "Consulter l'offre d'emploi Conducteur de ligne  H/F\n",
      "https://www.lejobadequat.com/emplois/247081-conducteur-de-ligne-h-f-fr\n",
      "\n",
      "Consulter l'offre d'emploi Assistante polyvalente  H/F\n",
      "https://www.lejobadequat.com/emplois/247080-assistante-polyvalente-f-h-fr\n",
      "\n",
      "Consulter l'offre d'emploi Agent de production \n",
      "https://www.lejobadequat.com/emplois/247079-agent-de-production-cdm-camaret-sur-aigues-h-f-fr\n",
      "\n",
      "Consulter l'offre d'emploi Employé polyvalent de restauration  H/F blois (41)\n",
      "https://www.lejobadequat.com/emplois/247075-employe-polyvalent-de-restauration-h-f-blois-41-fr\n",
      "\n",
      "Consulter l'offre d'emploi Aide foreur  H/F\n",
      "https://www.lejobadequat.com/emplois/247074-aide-foreur-f-h-fr\n",
      "\n",
      "Consulter l'offre d'emploi Peintre/solier  H/F\n",
      "https://www.lejobadequat.com/emplois/247072-peintre-solier-f-h-fr\n",
      "\n",
      "Consulter l'offre d'emploi Aide foreur  H/F\n",
      "https://www.lejobadequat.com/emplois/247071-aide-foreur-f-h-fr\n",
      "\n",
      "Consulter l'offre d'emploi Aide foreur  H/F\n",
      "https://www.lejobadequat.com/emplois/247070-aide-foreur-f-h-fr\n",
      "\n",
      "Consulter l'offre d'emploi Manoeuvre  H/F\n",
      "https://www.lejobadequat.com/emplois/247069-manoeuvre-f-h-fr\n",
      "\n"
     ]
    }
   ],
   "source": [
    "# Отримаємо дату\n",
    "strings = re.findall(\"<a href=\\\"([\\w1-9:\\/.-]{1,})\\\" title=\\\"([\\w '-–\\/]{1,})\", responce.text)\n",
    "for i in strings:\n",
    "    print(i[1])\n",
    "    print(i[0])\n",
    "    print()"
   ]
  },
  {
   "cell_type": "markdown",
   "id": "499fec85",
   "metadata": {},
   "source": [
    "# JSON"
   ]
  },
  {
   "cell_type": "code",
   "execution_count": 4,
   "id": "8f3fce3e",
   "metadata": {},
   "outputs": [],
   "source": [
    "data_1 = [\n",
    "    {\"id\" : i, \"title\": strings[i][1], \"url\": strings[i][0]}\n",
    "    for i in range(0, len(strings))\n",
    "]"
   ]
  },
  {
   "cell_type": "code",
   "execution_count": 18,
   "id": "4bd841f5",
   "metadata": {},
   "outputs": [],
   "source": [
    "# Не приймає \"é\", але інше працює вірно\n",
    "filename = \"JSON.json\"\n",
    "with open(filename, \"w\", encoding='utf-16') as f:\n",
    "    json.dump(data_1, f, indent=3)"
   ]
  },
  {
   "cell_type": "markdown",
   "id": "1767cb74",
   "metadata": {},
   "source": [
    "# SQlite"
   ]
  },
  {
   "cell_type": "code",
   "execution_count": 6,
   "id": "bd18972d",
   "metadata": {},
   "outputs": [],
   "source": [
    "con = sqlite3.connect(\"sqlite.db\")\n",
    "cur = con.cursor()"
   ]
  },
  {
   "cell_type": "code",
   "execution_count": 12,
   "id": "2d5f2212",
   "metadata": {},
   "outputs": [],
   "source": [
    "# Якщо нема створюємо таблицю\n",
    "# cur.execute(\"CREATE TABLE data(id, title, url)\")"
   ]
  },
  {
   "cell_type": "code",
   "execution_count": 8,
   "id": "17876605",
   "metadata": {},
   "outputs": [],
   "source": [
    "# Очищення\n",
    "cur.execute(\"DELETE FROM data\")\n",
    "con.commit()"
   ]
  },
  {
   "cell_type": "code",
   "execution_count": 9,
   "id": "02fdb6c9",
   "metadata": {},
   "outputs": [],
   "source": [
    "data_2 = [\n",
    "    (i, strings[i][1], strings[i][0])\n",
    "    for i in range(0, len(strings))\n",
    "]"
   ]
  },
  {
   "cell_type": "code",
   "execution_count": 10,
   "id": "f8a98319",
   "metadata": {},
   "outputs": [],
   "source": [
    "cur.executemany(\"INSERT INTO data VALUES(?, ?, ?)\", data_2)\n",
    "con.commit()"
   ]
  },
  {
   "cell_type": "code",
   "execution_count": 11,
   "id": "090b606e",
   "metadata": {},
   "outputs": [
    {
     "name": "stdout",
     "output_type": "stream",
     "text": [
      "(0, \"Consulter l'offre d'emploi Assembleur / monteur  H/F\", 'https://www.lejobadequat.com/emplois/247084-assembleur-monteur-h-f-fr')\n",
      "(1, \"Consulter l'offre d'emploi Maçon finisseur  H/F\", 'https://www.lejobadequat.com/emplois/247083-macon-finisseur-h-f-fr')\n",
      "(2, \"Consulter l'offre d'emploi Chargé d\", 'https://www.lejobadequat.com/emplois/247082-charge-daffaires-commercial-f-h-fr')\n",
      "(3, \"Consulter l'offre d'emploi Conducteur de ligne  H/F\", 'https://www.lejobadequat.com/emplois/247081-conducteur-de-ligne-h-f-fr')\n",
      "(4, \"Consulter l'offre d'emploi Assistante polyvalente  H/F\", 'https://www.lejobadequat.com/emplois/247080-assistante-polyvalente-f-h-fr')\n",
      "(5, \"Consulter l'offre d'emploi Agent de production \", 'https://www.lejobadequat.com/emplois/247079-agent-de-production-cdm-camaret-sur-aigues-h-f-fr')\n",
      "(6, \"Consulter l'offre d'emploi Employé polyvalent de restauration  H/F blois (41)\", 'https://www.lejobadequat.com/emplois/247075-employe-polyvalent-de-restauration-h-f-blois-41-fr')\n",
      "(7, \"Consulter l'offre d'emploi Aide foreur  H/F\", 'https://www.lejobadequat.com/emplois/247074-aide-foreur-f-h-fr')\n",
      "(8, \"Consulter l'offre d'emploi Peintre/solier  H/F\", 'https://www.lejobadequat.com/emplois/247072-peintre-solier-f-h-fr')\n",
      "(9, \"Consulter l'offre d'emploi Aide foreur  H/F\", 'https://www.lejobadequat.com/emplois/247071-aide-foreur-f-h-fr')\n",
      "(10, \"Consulter l'offre d'emploi Aide foreur  H/F\", 'https://www.lejobadequat.com/emplois/247070-aide-foreur-f-h-fr')\n",
      "(11, \"Consulter l'offre d'emploi Manoeuvre  H/F\", 'https://www.lejobadequat.com/emplois/247069-manoeuvre-f-h-fr')\n"
     ]
    }
   ],
   "source": [
    "# Перевірка\n",
    "for row in cur.execute(\"SELECT id, title, url FROM data ORDER BY id\"):\n",
    "    print(row)"
   ]
  },
  {
   "cell_type": "code",
   "execution_count": null,
   "id": "3d4a4c14",
   "metadata": {},
   "outputs": [],
   "source": []
  }
 ],
 "metadata": {
  "kernelspec": {
   "display_name": "Python 3 (ipykernel)",
   "language": "python",
   "name": "python3"
  },
  "language_info": {
   "codemirror_mode": {
    "name": "ipython",
    "version": 3
   },
   "file_extension": ".py",
   "mimetype": "text/x-python",
   "name": "python",
   "nbconvert_exporter": "python",
   "pygments_lexer": "ipython3",
   "version": "3.9.16"
  }
 },
 "nbformat": 4,
 "nbformat_minor": 5
}
